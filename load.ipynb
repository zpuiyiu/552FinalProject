{
 "cells": [
  {
   "cell_type": "code",
   "execution_count": 3,
   "metadata": {},
   "outputs": [],
   "source": [
    "import os\n",
    "import cv2\n",
    "import numpy as np\n",
    "#from PIL import Image"
   ]
  },
  {
   "cell_type": "code",
   "execution_count": 4,
   "metadata": {},
   "outputs": [],
   "source": [
    "folder_path = \"C:/Users/Bryan/USC/DSCI 552/final project\"\n"
   ]
  },
  {
   "cell_type": "code",
   "execution_count": 5,
   "metadata": {},
   "outputs": [],
   "source": [
    "categories = [\"Gothic\", \"Modern\", \"Mughal\", \"Neoclassical\", \"Pagodas\", \"Pyramids\"]"
   ]
  },
  {
   "cell_type": "code",
   "execution_count": 14,
   "metadata": {},
   "outputs": [],
   "source": [
    "landmarks = []\n",
    "images = []\n",
    "target = []\n",
    "i = 0\n",
    "\n",
    "for category in categories:\n",
    "    subdir_path = os.path.join(folder_path, category)\n",
    "    #print(subdir_path)\n",
    "    \n",
    "    # Iterate through each subfolder in the parent folder\n",
    "    \n",
    "    for landmark in os.listdir(subdir_path):\n",
    "        landmarks.append(landmark)\n",
    "        i += 1\n",
    "        \n",
    "    # Construct the full path to the subfolder\n",
    "        next_path = os.path.join(subdir_path, landmark)\n",
    "        \n",
    "        # Iterate through each image file in the subfolder\n",
    "        for filename in os.listdir(next_path):\n",
    "            # Construct the full path to the image file\n",
    "            image_path = os.path.join(next_path, filename)\n",
    "            try: \n",
    "                # Read the image using OpenCV\n",
    "                image = cv2.imread(image_path)\n",
    "                #image = cv2.resize(image, (224, 224))\n",
    "\n",
    "                # Convert the image to an array and normalize the pixel values\n",
    "                #img_array = np.array(image) #/ 255.0\n",
    "                images.append(image)\n",
    "                target.append(i)\n",
    "                #break\n",
    "            except Exception as e:\n",
    "                print(f\"Error processing file {image_path}: {e}\")\n",
    "\n",
    "\n",
    "            "
   ]
  },
  {
   "cell_type": "code",
   "execution_count": 16,
   "metadata": {},
   "outputs": [
    {
     "name": "stdout",
     "output_type": "stream",
     "text": [
      "[1, 1, 1, 1, 1, 1, 1, 1, 1, 1, 1, 1, 1, 1, 2, 2, 2, 2, 2, 2, 2, 2, 2, 2, 2, 2, 2, 2, 3, 3, 3, 3, 3, 3, 3, 3, 3, 3, 3, 3, 3, 3, 4, 4, 4, 4, 4, 4, 4, 4, 4, 4, 4, 4, 4, 4, 5, 5, 5, 5, 5, 5, 5, 5, 5, 5, 5, 5, 5, 5, 6, 6, 6, 6, 6, 6, 6, 6, 6, 6, 6, 6, 6, 6, 7, 7, 7, 7, 7, 7, 7, 7, 7, 7, 7, 7, 7, 7, 8, 8, 8, 8, 8, 8, 8, 8, 8, 8, 8, 8, 8, 8, 9, 9, 9, 9, 9, 9, 9, 9, 9, 9, 9, 9, 9, 9, 10, 10, 10, 10, 10, 10, 10, 10, 10, 10, 10, 10, 10, 10, 11, 11, 11, 11, 11, 11, 11, 11, 11, 11, 11, 11, 11, 12, 12, 12, 12, 12, 12, 12, 12, 12, 12, 12, 12, 12, 12, 13, 13, 13, 13, 13, 13, 13, 13, 13, 13, 13, 13, 13, 13, 14, 14, 14, 14, 14, 14, 14, 14, 14, 14, 14, 14, 14, 14, 15, 15, 15, 15, 15, 15, 15, 15, 15, 15, 15, 15, 15, 15, 16, 16, 16, 16, 16, 16, 16, 16, 16, 16, 16, 16, 16, 16, 17, 17, 17, 17, 17, 17, 17, 17, 17, 17, 17, 17, 17, 17, 18, 18, 18, 18, 18, 18, 18, 18, 18, 18, 18, 18, 18, 18, 19, 19, 19, 19, 19, 19, 19, 19, 19, 19, 19, 19, 19, 19, 20, 20, 20, 20, 20, 20, 20, 20, 20, 20, 20, 20, 20, 20, 21, 21, 21, 21, 21, 21, 21, 21, 21, 21, 21, 21, 21, 21, 22, 22, 22, 22, 22, 22, 22, 22, 22, 22, 22, 22, 22, 22, 23, 23, 23, 23, 23, 23, 23, 23, 23, 23, 23, 23, 23, 23, 24, 24, 24, 24, 24, 24, 24, 24, 24, 24, 24, 24, 24, 24, 25, 25, 25, 25, 25, 25, 25, 25, 25, 25, 25, 25, 25, 25, 26, 26, 26, 26, 26, 26, 26, 26, 26, 26, 26, 26, 26, 26, 27, 27, 27, 27, 27, 27, 27, 27, 27, 27, 27, 27, 27, 27, 27, 27, 28, 28, 28, 28, 28, 28, 28, 28, 28, 28, 28, 28, 28, 28, 29, 29, 29, 29, 29, 29, 29, 29, 29, 29, 29, 29, 29, 30, 30, 30, 30, 30, 30, 30, 30, 30, 30, 30, 30, 30, 30]\n"
     ]
    }
   ],
   "source": [
    "#print(images)\n",
    "print(target)"
   ]
  },
  {
   "cell_type": "code",
   "execution_count": 8,
   "metadata": {},
   "outputs": [
    {
     "name": "stdout",
     "output_type": "stream",
     "text": [
      "['ChartresCathedral', 'CologneCathedral', 'MilanCathedral', 'Notre-DameCathedral', 'St.VitusCathedral', 'Cathedral of Brasília', 'CCTV Headquarters', 'Chrysler Building', 'eiffel', 'Hallgrímskirkja', 'Bibi Ka Maqbara', 'Jama Masjid', 'Taj Mahal', 'Tomb of Akbar', 'Tomb of I_timad-ud-Daulah', 'Academy of Athens', 'Buckingham Palace', 'Concertgebouw', 'Panthéon', 'Ripon Building', 'FogongTemplePagoda', 'GiantWildGoosePagoda', 'ShwedagonPagoda', 'ThienMuPagoda', 'TianningTemplePagoda', 'El Castillo, Chichen Itza', 'Louvre Pyramid', 'Pyramid of Djoser', 'Pyramid of Giza', 'Santa Cecilia Acatitlan Pyramid']\n"
     ]
    }
   ],
   "source": [
    "print(landmarks)"
   ]
  },
  {
   "cell_type": "code",
   "execution_count": 9,
   "metadata": {},
   "outputs": [],
   "source": [
    "import tensorflow as tf"
   ]
  },
  {
   "cell_type": "code",
   "execution_count": 10,
   "metadata": {},
   "outputs": [],
   "source": [
    "model = tf.keras.applications.ResNet50(weights=\"imagenet\")"
   ]
  },
  {
   "cell_type": "code",
   "execution_count": 18,
   "metadata": {},
   "outputs": [],
   "source": [
    "# central crop\n",
    "# cross entropy outputs 30 classes; \n",
    "# images_resized = tf.keras.layers.Resizing(height=224, width=224,\n",
    "#                                           crop_to_aspect_ratio=True)(images)"
   ]
  },
  {
   "cell_type": "code",
   "execution_count": null,
   "metadata": {},
   "outputs": [],
   "source": []
  }
 ],
 "metadata": {
  "kernelspec": {
   "display_name": "Python 3",
   "language": "python",
   "name": "python3"
  },
  "language_info": {
   "codemirror_mode": {
    "name": "ipython",
    "version": 3
   },
   "file_extension": ".py",
   "mimetype": "text/x-python",
   "name": "python",
   "nbconvert_exporter": "python",
   "pygments_lexer": "ipython3",
   "version": "3.11.2"
  },
  "orig_nbformat": 4
 },
 "nbformat": 4,
 "nbformat_minor": 2
}
